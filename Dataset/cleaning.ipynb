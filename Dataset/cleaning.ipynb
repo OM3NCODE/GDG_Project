{
 "cells": [
  {
   "cell_type": "code",
   "execution_count": 1,
   "metadata": {},
   "outputs": [
    {
     "data": {
      "text/html": [
       "<div>\n",
       "<style scoped>\n",
       "    .dataframe tbody tr th:only-of-type {\n",
       "        vertical-align: middle;\n",
       "    }\n",
       "\n",
       "    .dataframe tbody tr th {\n",
       "        vertical-align: top;\n",
       "    }\n",
       "\n",
       "    .dataframe thead th {\n",
       "        text-align: right;\n",
       "    }\n",
       "</style>\n",
       "<table border=\"1\" class=\"dataframe\">\n",
       "  <thead>\n",
       "    <tr style=\"text-align: right;\">\n",
       "      <th></th>\n",
       "      <th>Video ID</th>\n",
       "      <th>Comment</th>\n",
       "      <th>Author</th>\n",
       "      <th>Likes</th>\n",
       "      <th>Published At</th>\n",
       "      <th>Comment ID</th>\n",
       "    </tr>\n",
       "  </thead>\n",
       "  <tbody>\n",
       "    <tr>\n",
       "      <th>0</th>\n",
       "      <td>EBOKYsWUhvI</td>\n",
       "      <td>Dub maro jaato 😢😢.\\r\\nTumse tumare ladkiya nhi...</td>\n",
       "      <td>HECTOR OF TROY</td>\n",
       "      <td>0.0</td>\n",
       "      <td>2023-07-06T07:04:02Z</td>\n",
       "      <td>UgwbyvIkkAhUdaCFpcp4AaABAg</td>\n",
       "    </tr>\n",
       "    <tr>\n",
       "      <th>1</th>\n",
       "      <td>EBOKYsWUhvI</td>\n",
       "      <td>Haar gye bechare</td>\n",
       "      <td>Geeta Saini</td>\n",
       "      <td>0.0</td>\n",
       "      <td>2023-07-03T22:21:37Z</td>\n",
       "      <td>Ugyz3OwSXamho91-8I94AaABAg</td>\n",
       "    </tr>\n",
       "    <tr>\n",
       "      <th>2</th>\n",
       "      <td>EBOKYsWUhvI</td>\n",
       "      <td>Dhamki mili pahalwano ko aur sab manage kr liy...</td>\n",
       "      <td>Ayaan Chouhan</td>\n",
       "      <td>0.0</td>\n",
       "      <td>2023-07-03T05:06:33Z</td>\n",
       "      <td>Ugyphs1TT1Yoj7MZBVJ4AaABAg</td>\n",
       "    </tr>\n",
       "    <tr>\n",
       "      <th>3</th>\n",
       "      <td>EBOKYsWUhvI</td>\n",
       "      <td>Jaato pr ye boj rhega ki vo apni hi vyavstha s...</td>\n",
       "      <td>Kamal</td>\n",
       "      <td>1.0</td>\n",
       "      <td>2023-07-02T03:39:50Z</td>\n",
       "      <td>UgwnIxpuFAcKsEzffBp4AaABAg</td>\n",
       "    </tr>\n",
       "    <tr>\n",
       "      <th>4</th>\n",
       "      <td>EBOKYsWUhvI</td>\n",
       "      <td>Pahlwan jante h kuch nhi kr payenge uska</td>\n",
       "      <td>jagriti tiwari upp</td>\n",
       "      <td>0.0</td>\n",
       "      <td>2023-06-28T15:10:36Z</td>\n",
       "      <td>UgxjuOlDigsmuDu53J54AaABAg</td>\n",
       "    </tr>\n",
       "  </tbody>\n",
       "</table>\n",
       "</div>"
      ],
      "text/plain": [
       "      Video ID                                            Comment  \\\n",
       "0  EBOKYsWUhvI  Dub maro jaato 😢😢.\\r\\nTumse tumare ladkiya nhi...   \n",
       "1  EBOKYsWUhvI                                   Haar gye bechare   \n",
       "2  EBOKYsWUhvI  Dhamki mili pahalwano ko aur sab manage kr liy...   \n",
       "3  EBOKYsWUhvI  Jaato pr ye boj rhega ki vo apni hi vyavstha s...   \n",
       "4  EBOKYsWUhvI           Pahlwan jante h kuch nhi kr payenge uska   \n",
       "\n",
       "               Author  Likes          Published At                  Comment ID  \n",
       "0      HECTOR OF TROY    0.0  2023-07-06T07:04:02Z  UgwbyvIkkAhUdaCFpcp4AaABAg  \n",
       "1         Geeta Saini    0.0  2023-07-03T22:21:37Z  Ugyz3OwSXamho91-8I94AaABAg  \n",
       "2       Ayaan Chouhan    0.0  2023-07-03T05:06:33Z  Ugyphs1TT1Yoj7MZBVJ4AaABAg  \n",
       "3               Kamal    1.0  2023-07-02T03:39:50Z  UgwnIxpuFAcKsEzffBp4AaABAg  \n",
       "4  jagriti tiwari upp    0.0  2023-06-28T15:10:36Z  UgxjuOlDigsmuDu53J54AaABAg  "
      ]
     },
     "execution_count": 1,
     "metadata": {},
     "output_type": "execute_result"
    }
   ],
   "source": [
    "import pandas as pd \n",
    "\n",
    "\n",
    "df = pd.read_csv(\"YouTube_Comments.csv\")\n",
    "df.head()"
   ]
  },
  {
   "cell_type": "code",
   "execution_count": 10,
   "metadata": {},
   "outputs": [],
   "source": [
    "cleaned = df.drop(columns=[\"Video ID\",\"Author\",\"Likes\",\"Published At\",\"Comment ID\"])"
   ]
  },
  {
   "cell_type": "code",
   "execution_count": 12,
   "metadata": {},
   "outputs": [
    {
     "data": {
      "text/html": [
       "<div>\n",
       "<style scoped>\n",
       "    .dataframe tbody tr th:only-of-type {\n",
       "        vertical-align: middle;\n",
       "    }\n",
       "\n",
       "    .dataframe tbody tr th {\n",
       "        vertical-align: top;\n",
       "    }\n",
       "\n",
       "    .dataframe thead th {\n",
       "        text-align: right;\n",
       "    }\n",
       "</style>\n",
       "<table border=\"1\" class=\"dataframe\">\n",
       "  <thead>\n",
       "    <tr style=\"text-align: right;\">\n",
       "      <th></th>\n",
       "      <th>Comment</th>\n",
       "    </tr>\n",
       "  </thead>\n",
       "  <tbody>\n",
       "    <tr>\n",
       "      <th>0</th>\n",
       "      <td>Dub maro jaato 😢😢.\\r\\nTumse tumare ladkiya nhi...</td>\n",
       "    </tr>\n",
       "    <tr>\n",
       "      <th>1</th>\n",
       "      <td>Haar gye bechare</td>\n",
       "    </tr>\n",
       "    <tr>\n",
       "      <th>2</th>\n",
       "      <td>Dhamki mili pahalwano ko aur sab manage kr liy...</td>\n",
       "    </tr>\n",
       "    <tr>\n",
       "      <th>3</th>\n",
       "      <td>Jaato pr ye boj rhega ki vo apni hi vyavstha s...</td>\n",
       "    </tr>\n",
       "    <tr>\n",
       "      <th>4</th>\n",
       "      <td>Pahlwan jante h kuch nhi kr payenge uska</td>\n",
       "    </tr>\n",
       "  </tbody>\n",
       "</table>\n",
       "</div>"
      ],
      "text/plain": [
       "                                             Comment\n",
       "0  Dub maro jaato 😢😢.\\r\\nTumse tumare ladkiya nhi...\n",
       "1                                   Haar gye bechare\n",
       "2  Dhamki mili pahalwano ko aur sab manage kr liy...\n",
       "3  Jaato pr ye boj rhega ki vo apni hi vyavstha s...\n",
       "4           Pahlwan jante h kuch nhi kr payenge uska"
      ]
     },
     "execution_count": 12,
     "metadata": {},
     "output_type": "execute_result"
    }
   ],
   "source": [
    "cleaned.head()"
   ]
  },
  {
   "cell_type": "code",
   "execution_count": 13,
   "metadata": {},
   "outputs": [],
   "source": [
    "cleaned.to_csv(\"YouTube_Comments_Cleaned.csv\")"
   ]
  },
  {
   "cell_type": "code",
   "execution_count": 25,
   "metadata": {},
   "outputs": [],
   "source": [
    "import pandas as pd\n",
    "import re\n",
    "\n",
    "# Load dataset\n",
    "file_path = \"YouTube_Comments_Cleaned.csv\"\n",
    "df = pd.read_csv(file_path)\n",
    "\n",
    "# Define common Hinglish words\n",
    "common_hinglish_words = [\n",
    "    \"hai\", \"kya\", \"nahi\", \"bhai\", \"sab\", \"mat\", \"bata\", \"kar\", \"hai\", \"hona\", \"kr\", \"bht\", \"haan\", \"kyu\"\n",
    "]\n"
   ]
  },
  {
   "cell_type": "code",
   "execution_count": 28,
   "metadata": {},
   "outputs": [],
   "source": [
    "# Function to detect Hinglish comments\n",
    "# Function to detect Hinglish comments (without langdetect)\n",
    "def is_hinglish(comment):\n",
    "    comment = str(comment).lower()  # Convert to lowercase\n",
    "    \n",
    "    contains_latin = bool(re.search(r'[a-zA-Z]', comment))  # Must have Latin characters\n",
    "    contains_devanagari = bool(re.search(r'[\\u0900-\\u097F]', comment))  # Should NOT have Hindi script\n",
    "    contains_hinglish_word = any(word in comment for word in common_hinglish_words)  # Must have Hinglish word\n",
    "    \n",
    "    return contains_latin and not contains_devanagari and contains_hinglish_word\n",
    "\n",
    "# Filter Hinglish comments\n",
    "df_hinglish = df[df[\"Comment\"].astype(str).apply(is_hinglish)].copy()\n",
    "\n",
    "# Define refined hate speech categories\n",
    "hate_categories = {\n",
    "    \"Religious Hate\": [\"mandir\", \"masjid\", \"hindu\", \"muslim\", \"allah\", \"bhagwan\", \"quran\", \"geeta\"],\n",
    "    \"Caste-Based Hate\": [\"jaat\", \"brahmin\", \"dalit\", \"shudra\", \"baniya\", \"thakur\"],\n",
    "    \"Gender-Based Hate\": [\"ladki\", \"ladka\", \"aurat\", \"mard\", \"mahila\", \"pati\", \"patni\", \"besharam\"],\n",
    "    \"Political Hate\": [\"modi\", \"bjp\", \"congress\", \"rahul\", \"kejriwal\", \"sarkar\", \"andhbhakt\", \"pappu\"],\n",
    "    \"Violent Speech\": [\"mar\", \"kat\", \"tod\", \"jal\", \"barbaad\", \"maar\", \"khoon\", \"chaku\", \"bandook\"],\n",
    "    \"Abusive/Profane Speech\": [\"chutiya\", \"madarchod\", \"bhosdike\", \"gandu\", \"bhenchod\", \"harami\"],\n",
    "    \"Ethnic/National Hate\": [\"pakistani\", \"bangladeshi\", \"bihari\", \"chinese\", \"kashmiri\", \"madrasi\"]\n",
    "}\n",
    "\n",
    "# Function to classify hate speech\n",
    "def classify_hate_speech(comment):\n",
    "    comment_lower = comment.lower()\n",
    "    for category, keywords in hate_categories.items():\n",
    "        if any(keyword in comment_lower for keyword in keywords):\n",
    "            return \"Hate Speech\", category\n",
    "    return \"Normal Text\", \"None\"\n",
    "\n"
   ]
  },
  {
   "cell_type": "code",
   "execution_count": 29,
   "metadata": {},
   "outputs": [
    {
     "data": {
      "text/html": [
       "<div>\n",
       "<style scoped>\n",
       "    .dataframe tbody tr th:only-of-type {\n",
       "        vertical-align: middle;\n",
       "    }\n",
       "\n",
       "    .dataframe tbody tr th {\n",
       "        vertical-align: top;\n",
       "    }\n",
       "\n",
       "    .dataframe thead th {\n",
       "        text-align: right;\n",
       "    }\n",
       "</style>\n",
       "<table border=\"1\" class=\"dataframe\">\n",
       "  <thead>\n",
       "    <tr style=\"text-align: right;\">\n",
       "      <th></th>\n",
       "      <th>Text</th>\n",
       "      <th>LABEL</th>\n",
       "      <th>Category</th>\n",
       "    </tr>\n",
       "  </thead>\n",
       "  <tbody>\n",
       "    <tr>\n",
       "      <th>0</th>\n",
       "      <td>Dub maro jaato 😢😢.\\r\\nTumse tumare ladkiya nhi...</td>\n",
       "      <td>Hate Speech</td>\n",
       "      <td>Caste-Based Hate</td>\n",
       "    </tr>\n",
       "    <tr>\n",
       "      <th>2</th>\n",
       "      <td>Dhamki mili pahalwano ko aur sab manage kr liy...</td>\n",
       "      <td>Normal Text</td>\n",
       "      <td>None</td>\n",
       "    </tr>\n",
       "    <tr>\n",
       "      <th>3</th>\n",
       "      <td>Jaato pr ye boj rhega ki vo apni hi vyavstha s...</td>\n",
       "      <td>Hate Speech</td>\n",
       "      <td>Caste-Based Hate</td>\n",
       "    </tr>\n",
       "    <tr>\n",
       "      <th>4</th>\n",
       "      <td>Pahlwan jante h kuch nhi kr payenge uska</td>\n",
       "      <td>Normal Text</td>\n",
       "      <td>None</td>\n",
       "    </tr>\n",
       "    <tr>\n",
       "      <th>5</th>\n",
       "      <td>Logo ko ullu bana ke ye sab mahanubhav chal di...</td>\n",
       "      <td>Normal Text</td>\n",
       "      <td>None</td>\n",
       "    </tr>\n",
       "  </tbody>\n",
       "</table>\n",
       "</div>"
      ],
      "text/plain": [
       "                                                Text        LABEL  \\\n",
       "0  Dub maro jaato 😢😢.\\r\\nTumse tumare ladkiya nhi...  Hate Speech   \n",
       "2  Dhamki mili pahalwano ko aur sab manage kr liy...  Normal Text   \n",
       "3  Jaato pr ye boj rhega ki vo apni hi vyavstha s...  Hate Speech   \n",
       "4           Pahlwan jante h kuch nhi kr payenge uska  Normal Text   \n",
       "5  Logo ko ullu bana ke ye sab mahanubhav chal di...  Normal Text   \n",
       "\n",
       "           Category  \n",
       "0  Caste-Based Hate  \n",
       "2              None  \n",
       "3  Caste-Based Hate  \n",
       "4              None  \n",
       "5              None  "
      ]
     },
     "execution_count": 29,
     "metadata": {},
     "output_type": "execute_result"
    }
   ],
   "source": [
    "# Apply hate speech classification\n",
    "df_hinglish[[\"LABEL\", \"Category\"]] = df_hinglish[\"Comment\"].apply(lambda x: pd.Series(classify_hate_speech(x)))\n",
    "\n",
    "# Rename column\n",
    "df_hinglish = df_hinglish.rename(columns={\"Comment\": \"Text\"})\n",
    "\n",
    "# Select relevant columns\n",
    "df_final = df_hinglish[[\"Text\", \"LABEL\", \"Category\"]]\n",
    "\n",
    "# Display first few rows\n",
    "df_final.head()\n"
   ]
  },
  {
   "cell_type": "code",
   "execution_count": 30,
   "metadata": {},
   "outputs": [
    {
     "name": "stdout",
     "output_type": "stream",
     "text": [
      "Filtered and classified comments saved successfully.\n"
     ]
    }
   ],
   "source": [
    "df_final.to_csv(\"Hinglish_Hate_Speech_Labeled.csv\", index=False)\n",
    "print(\"Filtered and classified comments saved successfully.\")"
   ]
  },
  {
   "cell_type": "code",
   "execution_count": 24,
   "metadata": {},
   "outputs": [
    {
     "data": {
      "text/plain": [
       "(1021, 2)"
      ]
     },
     "execution_count": 24,
     "metadata": {},
     "output_type": "execute_result"
    }
   ],
   "source": [
    "df.shape"
   ]
  },
  {
   "cell_type": "code",
   "execution_count": null,
   "metadata": {},
   "outputs": [],
   "source": []
  }
 ],
 "metadata": {
  "kernelspec": {
   "display_name": "Python 3",
   "language": "python",
   "name": "python3"
  },
  "language_info": {
   "codemirror_mode": {
    "name": "ipython",
    "version": 3
   },
   "file_extension": ".py",
   "mimetype": "text/x-python",
   "name": "python",
   "nbconvert_exporter": "python",
   "pygments_lexer": "ipython3",
   "version": "3.13.2"
  }
 },
 "nbformat": 4,
 "nbformat_minor": 2
}
